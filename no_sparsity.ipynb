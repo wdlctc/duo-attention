{
 "cells": [
  {
   "cell_type": "code",
   "execution_count": 4,
   "id": "80ee6126-f815-4456-85ca-459177f91cd4",
   "metadata": {},
   "outputs": [
    {
     "data": {
      "application/vnd.jupyter.widget-view+json": {
       "model_id": "cbee0ae33ada441ead065651043594f3",
       "version_major": 2,
       "version_minor": 0
      },
      "text/plain": [
       "Loading checkpoint shards:   0%|          | 0/4 [00:00<?, ?it/s]"
      ]
     },
     "metadata": {},
     "output_type": "display_data"
    }
   ],
   "source": [
    "import transformers\n",
    "import torch\n",
    "import time\n",
    "import shutil\n",
    "from tqdm import tqdm, trange\n",
    "from transformers import AutoTokenizer, AutoModelForCausalLM, GenerationConfig\n",
    "from transformers.cache_utils import Cache, DynamicCache, StaticCache, OffloadedCache, OffloadedStaticCache\n",
    "\n",
    "# Load the model\n",
    "ckpt = \"models/Llama-3-8B-Instruct-Gradient-1048k\"\n",
    "tokenizer = AutoTokenizer.from_pretrained(ckpt, use_fast=False)\n",
    "model = AutoModelForCausalLM.from_pretrained(\n",
    "    ckpt,\n",
    "    torch_dtype=torch.bfloat16,\n",
    "    low_cpu_mem_usage=True,\n",
    "    attn_implementation=\"eager\",\n",
    ").to(\"cuda\")\n",
    "\n",
    "\n",
    "generation_config = GenerationConfig.from_pretrained(ckpt)\n",
    "eos_token_ids = generation_config.eos_token_id\n",
    "if not isinstance(eos_token_ids, list):\n",
    "    eos_token_ids = [eos_token_ids]\n",
    "\n",
    "# add some tokens like \"</user>\" and </s> to eos ids\n",
    "eos_token_ids += tokenizer.encode(\"</user>\", add_special_tokens=False)\n",
    "eos_token_ids += tokenizer.encode(\"</s>\", add_special_tokens=False)\n",
    "eos_token_ids += tokenizer.encode(\"</\", add_special_tokens=False)"
   ]
  },
  {
   "cell_type": "code",
   "execution_count": 5,
   "id": "8eac01c0-df3a-4112-b558-0faebf80041c",
   "metadata": {},
   "outputs": [
    {
     "name": "stdout",
     "output_type": "stream",
     "text": [
      "Fun fact: The shortest war in history was between Zanzibar and Great Britain on August 27, 1896. Zanzibar\n"
     ]
    }
   ],
   "source": [
    "# Manually perform inference using KV cache\n",
    "\n",
    "inputs = tokenizer(\"Fun fact: The shortest\", return_tensors=\"pt\").to(model.device)\n",
    "max_new_tokens = 23\n",
    "generated_tokens = []\n",
    "input_ids = inputs[\"input_ids\"]\n",
    "\n",
    "# Initialize past_key_values to None\n",
    "past_key_values = DynamicCache()\n",
    "\n",
    "for _ in range(max_new_tokens):\n",
    "    with torch.no_grad():\n",
    "        outputs = model(input_ids=input_ids, past_key_values=past_key_values, use_cache=True)\n",
    "        \n",
    "        # Extract the logits and past_key_values (the cache)\n",
    "        next_token_logits = outputs.logits[:, -1, :]  # Logits of the last token\n",
    "        past_key_values = outputs.past_key_values  # KV cache to be reused in the next step\n",
    "\n",
    "        # Greedy decoding: get the token with the highest probability\n",
    "        next_token = torch.argmax(next_token_logits, dim=-1)\n",
    "        generated_tokens.append(next_token.item())\n",
    "\n",
    "        # Only pass the new token for the next iteration\n",
    "        input_ids = next_token.unsqueeze(-1)\n",
    "\n",
    "# Convert generated token ids to text\n",
    "output_text = \"Fun fact: The shortest\" + tokenizer.decode(generated_tokens, skip_special_tokens=True)\n",
    "print(output_text)"
   ]
  },
  {
   "cell_type": "code",
   "execution_count": 3,
   "id": "e9a543c4-370e-4d7e-9045-ce2eb17885c5",
   "metadata": {},
   "outputs": [
    {
     "name": "stdout",
     "output_type": "stream",
     "text": [
      "Input sequence length: 462\n",
      "\n",
      "This is a very long story book: <book> A quick brown fox jumps over the lazy dog. \n",
      "A quick brown fox jumps over the lazy dog. \n",
      "A quick brown fox jumps over the lazy dog. \n",
      "A quick brown fox jumps over the lazy dog. \n",
      "A quick brown fox jumps over the lazy dog. \n",
      "A quick brown fox jumps over the lazy dog. \n",
      "Title: DuoAttention: Efficient Long-Context LLM Inference with Retrieval and Streaming Heads\n",
      "Abstract: Deploying long-context large language models (LLMs) is essential but poses significant computational and memory challenges. Caching all Key and Value (KV) states across all attention heads consumes substantial memory. Existing KV cache pruning methods either damage the long-context capabilities of LLMs or offer only limited efficiency improvements. In this paper, we identify that only a fraction of attention heads, a.k.a, Retrieval Heads, are critical for processing long contexts and require full attention across all tokens. In contrast, all other heads, which primarily focus on recent tokens and attention sinks, referred to as Streaming Heads, do not require full attention. Based on this insight, we introduce DuoAttention, a framework that only applies a full KV cache to retrieval heads while using a light-weight, constant-length KV cache for streaming heads, which reduces both LLM's decoding and pre-filling memory and latency without compromising its long-context abilities. DuoAttention uses a lightweight, optimization-based algorithm with synthetic data to identify retrieval heads accurately. Our method significantly reduces long-context inference memory by up to 2.55x for MHA and 1.67x for GQA models while speeding up decoding by up to 2.18x and 1.50x and accelerating pre-filling by up to 1.73x and 1.63x for MHA and GQA models, respectively, with minimal accuracy loss compared to full attention. Notably, combined with quantization, DuoAttention enables Llama-3-8B decoding with 3.3 million context length on a single A100 GPU.A quick brown fox jumps over the lazy dog. \n",
      "A quick brown fox jumps over the lazy dog. \n",
      "</book>\n",
      " Based on the content of the book, please briefly tell me about DuoAttention.\n",
      "Answer:\n"
     ]
    },
    {
     "name": "stderr",
     "output_type": "stream",
     "text": [
      "Pre-filling (0/462):   0%|          | 0/1 [00:00<?, ?it/s]"
     ]
    },
    {
     "name": "stdout",
     "output_type": "stream",
     "text": [
      "torch.Size([1, 462])\n"
     ]
    },
    {
     "name": "stderr",
     "output_type": "stream",
     "text": [
      "Pre-filling (0/462): 100%|██████████| 1/1 [00:00<00:00,  2.55it/s]"
     ]
    },
    {
     "name": "stdout",
     "output_type": "stream",
     "text": [
      "Pre-filling time: 0.39s\n",
      "\n",
      "\u001b[KDecoding (Mem: 15.1 GB | Latency: 35.1 ms/tok): Duo"
     ]
    },
    {
     "name": "stderr",
     "output_type": "stream",
     "text": [
      "\n"
     ]
    },
    {
     "name": "stdout",
     "output_type": "stream",
     "text": [
      "\u001b[KDecoding (Mem: 15.1 GB | Latency: 31.6 ms/tok): DuoDecoding (Mem: 15.1 GB | Latency: 31.3 ms/tok): DuoDecoding (Mem: 15.1 GB | Latency: 31.3 ms/tok): DuoDecoding (Mem: 15.1 GB | Latency: 31.3 ms/tok): Duo\n",
      "\n",
      "Per-token decoding latency: 31.60 ms\n",
      "Duo<|start_header_id|><|start_header_id|><|start_header_id|><|start_header_id|><|start_header_id|><|start_header_id|><|start_header_id|><|start_header_id|><|start_header_id|><|start_header_id|><|start_header_id|><|start_header_id|><|start_header_id|><|start_header_id|><|start_header_id|><|start_header_id|><|start_header_id|><|start_header_id|><|start_header_id|><|start_header_id|><|start_header_id|><|start_header_id|><|start_header_id|><|start_header_id|><|start_header_id|><|start_header_id|><|start_header_id|><|start_header_id|><|start_header_id|><|start_header_id|><|start_header_id|><|start_header_id|><|start_header_id|><|start_header_id|><|start_header_id|><|start_header_id|><|start_header_id|><|start_header_id|><|start_header_id|><|start_header_id|><|start_header_id|><|start_header_id|><|start_header_id|><|start_header_id|><|start_header_id|><|start_header_id|><|start_header_id|><|start_header_id|><|start_header_id|><|start_header_id|><|start_header_id|><|start_header_id|><|start_header_id|><|start_header_id|><|start_header_id|><|start_header_id|><|start_header_id|><|start_header_id|><|start_header_id|><|start_header_id|><|start_header_id|><|start_header_id|><|start_header_id|><|start_header_id|><|start_header_id|><|start_header_id|><|start_header_id|><|start_header_id|><|start_header_id|><|start_header_id|><|start_header_id|><|start_header_id|><|start_header_id|><|start_header_id|><|start_header_id|><|start_header_id|><|start_header_id|><|start_header_id|><|start_header_id|><|start_header_id|><|start_header_id|><|start_header_id|><|start_header_id|><|start_header_id|><|start_header_id|><|start_header_id|><|start_header_id|><|start_header_id|><|start_header_id|><|start_header_id|><|start_header_id|><|start_header_id|><|start_header_id|><|start_header_id|><|start_header_id|><|start_header_id|><|start_header_id|><|start_header_id|><|start_header_id|><|start_header_id|><|start_header_id|><|start_header_id|><|start_header_id|><|start_header_id|><|start_header_id|><|start_header_id|><|start_header_id|><|start_header_id|><|start_header_id|><|start_header_id|><|start_header_id|><|start_header_id|><|start_header_id|><|start_header_id|><|start_header_id|><|start_header_id|><|start_header_id|><|start_header_id|><|start_header_id|><|start_header_id|><|start_header_id|><|start_header_id|><|start_header_id|><|start_header_id|><|start_header_id|><|start_header_id|><|start_header_id|><|start_header_id|><|start_header_id|><|start_header_id|><|start_header_id|><|start_header_id|><|start_header_id|><|start_header_id|><|start_header_id|><|start_header_id|><|start_header_id|><|start_header_id|><|start_header_id|><|start_header_id|><|start_header_id|><|start_header_id|><|start_header_id|><|start_header_id|><|start_header_id|><|start_header_id|><|start_header_id|><|start_header_id|><|start_header_id|><|start_header_id|><|start_header_id|><|start_header_id|><|start_header_id|><|start_header_id|><|start_header_id|><|start_header_id|><|start_header_id|><|start_header_id|><|start_header_id|><|start_header_id|><|start_header_id|><|start_header_id|><|start_header_id|><|start_header_id|><|start_header_id|><|start_header_id|><|start_header_id|><|start_header_id|><|start_header_id|><|start_header_id|><|start_header_id|><|start_header_id|><|start_header_id|><|start_header_id|><|start_header_id|><|start_header_id|><|start_header_id|><|start_header_id|><|start_header_id|><|start_header_id|><|start_header_id|><|start_header_id|><|start_header_id|><|start_header_id|><|start_header_id|><|start_header_id|><|start_header_id|><|start_header_id|><|start_header_id|><|start_header_id|><|start_header_id|><|start_header_id|><|start_header_id|><|start_header_id|><|start_header_id|><|start_header_id|><|start_header_id|><|start_header_id|><|start_header_id|><|start_header_id|><|start_header_id|><|start_header_id|><|start_header_id|><|start_header_id|><|start_header_id|><|start_header_id|><|start_header_id|><|start_header_id|><|start_header_id|><|start_header_id|><|start_header_id|><|start_header_id|><|start_header_id|><|start_header_id|><|start_header_id|><|start_header_id|><|start_header_id|><|start_header_id|><|start_header_id|><|start_header_id|><|start_header_id|><|start_header_id|><|start_header_id|><|start_header_id|><|start_header_id|><|start_header_id|><|start_header_id|><|start_header_id|><|start_header_id|><|start_header_id|><|start_header_id|><|start_header_id|><|start_header_id|><|start_header_id|><|start_header_id|><|start_header_id|><|start_header_id|><|start_header_id|><|start_header_id|><|start_header_id|><|start_header_id|><|start_header_id|><|start_header_id|><|start_header_id|><|start_header_id|><|start_header_id|><|start_header_id|><|start_header_id|><|start_header_id|><|start_header_id|><|start_header_id|><|start_header_id|><|start_header_id|><|start_header_id|><|start_header_id|><|start_header_id|><|start_header_id|><|start_header_id|><|start_header_id|><|start_header_id|><|start_header_id|><|start_header_id|><|start_header_id|><|start_header_id|><|start_header_id|><|start_header_id|><|start_header_id|><|start_header_id|><|start_header_id|><|start_header_id|><|start_header_id|><|start_header_id|><|start_header_id|><|start_header_id|><|start_header_id|><|start_header_id|><|start_header_id|><|start_header_id|><|start_header_id|><|start_header_id|><|start_header_id|><|start_header_id|><|start_header_id|><|start_header_id|><|start_header_id|><|start_header_id|><|start_header_id|><|start_header_id|><|start_header_id|><|start_header_id|><|start_header_id|><|start_header_id|><|start_header_id|><|start_header_id|><|start_header_id|><|start_header_id|><|start_header_id|><|start_header_id|><|start_header_id|><|start_header_id|><|start_header_id|><|start_header_id|><|start_header_id|><|start_header_id|><|start_header_id|><|start_header_id|><|start_header_id|><|start_header_id|><|start_header_id|><|start_header_id|><|start_header_id|><|start_header_id|><|start_header_id|><|start_header_id|><|start_header_id|><|start_header_id|><|start_header_id|><|start_header_id|><|start_header_id|><|start_header_id|><|start_header_id|><|start_header_id|><|start_header_id|><|start_header_id|><|start_header_id|><|start_header_id|><|start_header_id|><|start_header_id|><|start_header_id|><|start_header_id|><|start_header_id|><|start_header_id|><|start_header_id|><|start_header_id|><|start_header_id|><|start_header_id|><|start_header_id|><|start_header_id|><|start_header_id|><|start_header_id|><|start_header_id|><|start_header_id|><|start_header_id|><|start_header_id|><|start_header_id|><|start_header_id|><|start_header_id|><|start_header_id|><|start_header_id|><|start_header_id|><|start_header_id|><|start_header_id|><|start_header_id|><|start_header_id|><|start_header_id|><|start_header_id|><|start_header_id|><|start_header_id|><|start_header_id|><|start_header_id|><|start_header_id|><|start_header_id|><|start_header_id|><|start_header_id|><|start_header_id|><|start_header_id|><|start_header_id|><|start_header_id|><|start_header_id|><|start_header_id|><|start_header_id|><|start_header_id|><|start_header_id|><|start_header_id|><|start_header_id|><|start_header_id|><|start_header_id|><|start_header_id|><|start_header_id|><|start_header_id|><|start_header_id|><|start_header_id|><|start_header_id|><|start_header_id|><|start_header_id|><|start_header_id|><|start_header_id|><|start_header_id|><|start_header_id|><|start_header_id|><|start_header_id|><|start_header_id|><|start_header_id|><|start_header_id|><|start_header_id|><|start_header_id|><|start_header_id|><|start_header_id|><|start_header_id|><|start_header_id|><|start_header_id|><|start_header_id|><|start_header_id|><|start_header_id|><|start_header_id|><|start_header_id|><|start_header_id|><|start_header_id|><|start_header_id|><|start_header_id|><|start_header_id|><|start_header_id|><|start_header_id|><|start_header_id|><|start_header_id|><|start_header_id|><|start_header_id|><|start_header_id|><|start_header_id|><|start_header_id|><|start_header_id|><|start_header_id|><|start_header_id|><|start_header_id|><|start_header_id|><|start_header_id|><|start_header_id|><|start_header_id|><|start_header_id|><|start_header_id|><|start_header_id|><|start_header_id|><|start_header_id|><|start_header_id|><|start_header_id|><|start_header_id|><|start_header_id|><|start_header_id|><|start_header_id|><|start_header_id|><|start_header_id|><|start_header_id|><|start_header_id|><|start_header_id|><|start_header_id|><|start_header_id|><|start_header_id|><|start_header_id|><|start_header_id|><|start_header_id|><|start_header_id|><|start_header_id|><|start_header_id|><|start_header_id|><|start_header_id|><|start_header_id|><|start_header_id|><|start_header_id|><|start_header_id|><|start_header_id|><|start_header_id|><|start_header_id|><|start_header_id|><|start_header_id|><|start_header_id|><|start_header_id|><|start_header_id|><|start_header_id|><|start_header_id|><|start_header_id|><|start_header_id|><|start_header_id|><|start_header_id|><|start_header_id|><|start_header_id|><|start_header_id|><|start_header_id|><|start_header_id|><|start_header_id|><|start_header_id|><|start_header_id|><|start_header_id|><|start_header_id|><|start_header_id|><|start_header_id|><|start_header_id|><|start_header_id|><|start_header_id|><|start_header_id|><|start_header_id|><|start_header_id|><|start_header_id|><|start_header_id|><|start_header_id|><|start_header_id|><|start_header_id|><|start_header_id|><|start_header_id|><|start_header_id|><|start_header_id|>\n",
      "Peak memory: 14.96 GB\n"
     ]
    }
   ],
   "source": [
    "from duo_attn.patch.static_kv_cache import DuoAttentionStaticKVCache\n",
    "\n",
    "\n",
    "context = \"A quick brown fox jumps over the lazy dog. \\n\"\n",
    "with open(\"demo/duo_attention.txt\", \"r\") as f:\n",
    "    needle = f.read()\n",
    "\n",
    "insertion_point = 0.75\n",
    "num_tokens_context = len(tokenizer.encode(context, add_special_tokens=False))\n",
    "num_repetitions = 100 // num_tokens_context\n",
    "text = (\n",
    "    \"This is a very long story book: <book> \"\n",
    "    + context * int(num_repetitions * insertion_point)\n",
    "    + needle\n",
    "    + context * int(num_repetitions * (1 - insertion_point))\n",
    "    + \"</book>\\n Based on the content of the book, please briefly tell me about DuoAttention.\\nAnswer:\"\n",
    ")\n",
    "\n",
    "\n",
    "def generate_with_kv_cache(model, kv_cache, pred_token_idx, eos_token_ids, tokenizer):\n",
    "    total_latency = 0\n",
    "    generated_content = [pred_token_idx.item()]\n",
    "    # This will keep track of how many lines were previously printed\n",
    "    previous_lines = 0\n",
    "    print(\"Generated text (Mem: N/A | Time: N/A):\", end=\" \", flush=True)\n",
    "    \n",
    "    for _ in range(500):\n",
    "        start = torch.cuda.Event(enable_timing=True)\n",
    "        end = torch.cuda.Event(enable_timing=True)\n",
    "        start.record()\n",
    "        output = model(\n",
    "            input_ids=pred_token_idx,\n",
    "            kv_cache=kv_cache,\n",
    "        )\n",
    "        end.record()\n",
    "        torch.cuda.synchronize()\n",
    "        elapsed_time = start.elapsed_time(end)\n",
    "        total_latency += elapsed_time\n",
    "\n",
    "        pred_token_idx = output.logits[:, -1, :].argmax(dim=-1).unsqueeze(1)\n",
    "        if pred_token_idx.item() in eos_token_ids:\n",
    "            break\n",
    "        generated_content += [pred_token_idx.item()]\n",
    "        # Capture memory usage using torch.cuda.max_memory_allocated()\n",
    "        used_mem = torch.cuda.max_memory_allocated() / (1024**3)  # Convert to GB\n",
    "        latency_per_token = total_latency / (\n",
    "            len(generated_content) - 1\n",
    "        )  # Latency in ms\n",
    "\n",
    "        generated_text = tokenizer.decode(\n",
    "            generated_content,\n",
    "            skip_special_tokens=True,\n",
    "            clean_up_tokenization_spaces=True,\n",
    "            spaces_between_special_tokens=False,\n",
    "        ).strip()\n",
    "\n",
    "        output = f\"Decoding (Mem: {used_mem:.1f} GB | Latency: {latency_per_token:.1f} ms/tok): {generated_text}\"\n",
    "\n",
    "        # Get the terminal width dynamically\n",
    "        terminal_width = shutil.get_terminal_size().columns\n",
    "\n",
    "        # Count how many lines the generated text will take up based on terminal width\n",
    "        lines = (len(output) + terminal_width - 1) // terminal_width - 1\n",
    "\n",
    "        # Clear the previous output lines\n",
    "        print(\"\\r\" + \"\\033[K\", end=\"\")  # Clear current line\n",
    "        for _ in range(previous_lines):\n",
    "            print(\"\\033[F\\033[K\", end=\"\")  # Move cursor up and clear line\n",
    "\n",
    "        # Print the updated text\n",
    "        print(\n",
    "            output,\n",
    "            end=\"\",\n",
    "            flush=True,\n",
    "        )\n",
    "\n",
    "        # Update the previous_lines to the new count\n",
    "        previous_lines = lines\n",
    "\n",
    "    print(\n",
    "        f\"\\n\\nPer-token decoding latency: {total_latency / (len(generated_content) - 1):.2f} ms\"\n",
    "    )\n",
    "    return tokenizer.decode(generated_content, skip_special_tokens=False).strip()\n",
    "    \n",
    "def test_with_chunked_prefilling(chunk_size=32000):\n",
    "    \n",
    "    kv_cache = DynamicCache\n",
    "    start_time = time.time()\n",
    "    with torch.no_grad():\n",
    "        pbar = tqdm(\n",
    "            range(0, input_ids.size(1), chunk_size),\n",
    "            desc=f\"Pre-filling ({0}/{input_ids.size(1)})\",\n",
    "        )\n",
    "        for i in pbar:\n",
    "            chunk_input_ids = input_ids[:, i : i + chunk_size]\n",
    "            print(chunk_input_ids.shape)\n",
    "            output = model(\n",
    "                input_ids=chunk_input_ids,\n",
    "                kv_cache=kv_cache,\n",
    "            )\n",
    "        pbar.close()\n",
    "    end_time = time.time()\n",
    "    print(f\"Pre-filling time: {end_time - start_time:.2f}s\\n\")\n",
    "    pred_token_idx = output.logits[:, -1, :].argmax(dim=-1).unsqueeze(1)\n",
    "    O = generate_with_kv_cache(\n",
    "        model, kv_cache, pred_token_idx, eos_token_ids, tokenizer\n",
    "    )\n",
    "\n",
    "    print(O)\n",
    "\n",
    "input_ids = tokenizer.encode(text, return_tensors=\"pt\").to(\"cuda\")\n",
    "\n",
    "print(f\"Input sequence length: {input_ids.size(1)}\\n\")\n",
    "print(text)\n",
    "torch.cuda.reset_peak_memory_stats()\n",
    "used_mem = torch.cuda.max_memory_allocated()\n",
    "test_with_chunked_prefilling(32000)\n",
    "print(f\"Peak memory: {used_mem / 1024 ** 3:.2f} GB\")"
   ]
  },
  {
   "cell_type": "code",
   "execution_count": null,
   "id": "8c6582c1-ade6-452b-b6f6-2ccd5d29605c",
   "metadata": {},
   "outputs": [],
   "source": []
  }
 ],
 "metadata": {
  "kernelspec": {
   "display_name": "Python 3 (ipykernel)",
   "language": "python",
   "name": "python3"
  },
  "language_info": {
   "codemirror_mode": {
    "name": "ipython",
    "version": 3
   },
   "file_extension": ".py",
   "mimetype": "text/x-python",
   "name": "python",
   "nbconvert_exporter": "python",
   "pygments_lexer": "ipython3",
   "version": "3.10.12"
  }
 },
 "nbformat": 4,
 "nbformat_minor": 5
}
