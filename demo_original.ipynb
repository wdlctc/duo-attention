{
 "cells": [
  {
   "cell_type": "code",
   "execution_count": 1,
   "id": "80ee6126-f815-4456-85ca-459177f91cd4",
   "metadata": {},
   "outputs": [
    {
     "name": "stderr",
     "output_type": "stream",
     "text": [
      "You are attempting to use Flash Attention 2.0 with a model not initialized on GPU. Make sure to move the model to GPU after initializing it on CPU with `model.to('cuda')`.\n"
     ]
    },
    {
     "data": {
      "application/vnd.jupyter.widget-view+json": {
       "model_id": "209bcceb952543269449901f0f65b708",
       "version_major": 2,
       "version_minor": 0
      },
      "text/plain": [
       "Loading checkpoint shards:   0%|          | 0/4 [00:00<?, ?it/s]"
      ]
     },
     "metadata": {},
     "output_type": "display_data"
    }
   ],
   "source": [
    "import transformers\n",
    "import torch\n",
    "import time\n",
    "import shutil\n",
    "from tqdm import tqdm, trange\n",
    "from transformers import AutoTokenizer, AutoModelForCausalLM, GenerationConfig\n",
    "\n",
    "# Load the model\n",
    "ckpt = \"models/Llama-3-8B-Instruct-Gradient-1048k\"\n",
    "tokenizer = AutoTokenizer.from_pretrained(ckpt, use_fast=False)\n",
    "model = AutoModelForCausalLM.from_pretrained(\n",
    "    ckpt,\n",
    "    torch_dtype=torch.bfloat16,\n",
    "    low_cpu_mem_usage=True,\n",
    "    attn_implementation=\"flash_attention_2\",\n",
    ").to(\"cuda\")\n",
    "\n",
    "\n",
    "generation_config = GenerationConfig.from_pretrained(ckpt)\n",
    "eos_token_ids = generation_config.eos_token_id\n",
    "if not isinstance(eos_token_ids, list):\n",
    "    eos_token_ids = [eos_token_ids]\n",
    "\n",
    "# add some tokens like \"</user>\" and </s> to eos ids\n",
    "eos_token_ids += tokenizer.encode(\"</user>\", add_special_tokens=False)\n",
    "eos_token_ids += tokenizer.encode(\"</s>\", add_special_tokens=False)\n",
    "eos_token_ids += tokenizer.encode(\"</\", add_special_tokens=False)"
   ]
  },
  {
   "cell_type": "code",
   "execution_count": 2,
   "id": "b681a123-2fac-4739-b1ba-080becdb0efc",
   "metadata": {},
   "outputs": [
    {
     "name": "stdout",
     "output_type": "stream",
     "text": [
      "Input sequence length: 10033\n",
      "\n"
     ]
    }
   ],
   "source": [
    "\n",
    "context = \"A quick brown fox jumps over the lazy dog. \\n\"\n",
    "# with open(\"demo/duo_attention.txt\", \"r\") as f:\n",
    "#     needle = f.read()\n",
    "needle = \"Mary's favorite number is 34251\"\n",
    "num_tokens_context = len(tokenizer.encode(context, add_special_tokens=False))\n",
    "num_repetitions = 10000 // num_tokens_context\n",
    "\n",
    "text = (\n",
    "    \"This is a very long story book: <book> \"\n",
    "    + context * int(num_repetitions * 0.75)\n",
    "    + needle\n",
    "    + context * int(num_repetitions * (1 - 0.75))\n",
    "    + \"</book>\\n Based on the content of the book, please briefly tell me about what is Mary's favorite number.\\nAnswer:\"\n",
    ")\n",
    "\n",
    "input_ids = tokenizer.encode(text, return_tensors=\"pt\").to(\"cuda\")\n",
    "\n",
    "print(f\"Input sequence length: {input_ids.size(1)}\\n\")"
   ]
  },
  {
   "cell_type": "code",
   "execution_count": 3,
   "id": "8c6582c1-ade6-452b-b6f6-2ccd5d29605c",
   "metadata": {},
   "outputs": [
    {
     "name": "stdout",
     "output_type": "stream",
     "text": [
      " Mary's favorite number is 34251. It is not mentioned in the book why it is her favorite number. The book is just a repetition of the sentence \"A quick brown fox jumps over the lazy dog\" many times. It is not related to Mary's favorite number. The book is just a long story book.\n"
     ]
    }
   ],
   "source": [
    "\n",
    "from transformers.cache_utils import Cache, DynamicCache, StaticCache, OffloadedCache, OffloadedStaticCache\n",
    "# Manually perform inference using KV cache\n",
    "\n",
    "# inputs = tokenizer(\"Fun fact: The shortest\", return_tensors=\"pt\").to(model.device)\n",
    "max_new_tokens = 500\n",
    "generated_tokens = []\n",
    "# input_ids = inputs[\"input_ids\"]\n",
    "\n",
    "# Initialize past_key_values to None\n",
    "past_key_values = DynamicCache()\n",
    "past_key_values.sink_size = 64\n",
    "past_key_values.recent_size = 256\n",
    "\n",
    "\n",
    "for _ in range(max_new_tokens):\n",
    "    with torch.no_grad():\n",
    "        outputs = model(input_ids=input_ids, past_key_values=past_key_values, use_cache=True)\n",
    "        \n",
    "        # Extract the logits and past_key_values (the cache)\n",
    "        next_token_logits = outputs.logits[:, -1, :]  # Logits of the last token\n",
    "        past_key_values = outputs.past_key_values  # KV cache to be reused in the next step\n",
    "\n",
    "\n",
    "        # Greedy decoding: get the token with the highest probability\n",
    "        next_token = torch.argmax(next_token_logits, dim=-1)\n",
    "        if next_token.item() in eos_token_ids:\n",
    "            break\n",
    "        generated_tokens.append(next_token.item())\n",
    "\n",
    "        # Only pass the new token for the next iteration\n",
    "        input_ids = next_token.unsqueeze(-1)\n",
    "\n",
    "# Convert generated token ids to text\n",
    "output_text = tokenizer.decode(generated_tokens, skip_special_tokens=True)\n",
    "print(output_text)"
   ]
  },
  {
   "cell_type": "code",
   "execution_count": null,
   "id": "289402d3-2a43-41c9-892d-e4286b722d5b",
   "metadata": {},
   "outputs": [],
   "source": []
  }
 ],
 "metadata": {
  "kernelspec": {
   "display_name": "Python 3 (ipykernel)",
   "language": "python",
   "name": "python3"
  },
  "language_info": {
   "codemirror_mode": {
    "name": "ipython",
    "version": 3
   },
   "file_extension": ".py",
   "mimetype": "text/x-python",
   "name": "python",
   "nbconvert_exporter": "python",
   "pygments_lexer": "ipython3",
   "version": "3.11.9"
  }
 },
 "nbformat": 4,
 "nbformat_minor": 5
}
